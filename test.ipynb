{
 "cells": [
  {
   "cell_type": "code",
   "execution_count": 1,
   "metadata": {},
   "outputs": [],
   "source": [
    "import pandas as pd"
   ]
  },
  {
   "cell_type": "code",
   "execution_count": 10,
   "metadata": {},
   "outputs": [
    {
     "data": {
      "text/html": [
       "<div>\n",
       "<style scoped>\n",
       "    .dataframe tbody tr th:only-of-type {\n",
       "        vertical-align: middle;\n",
       "    }\n",
       "\n",
       "    .dataframe tbody tr th {\n",
       "        vertical-align: top;\n",
       "    }\n",
       "\n",
       "    .dataframe thead th {\n",
       "        text-align: right;\n",
       "    }\n",
       "</style>\n",
       "<table border=\"1\" class=\"dataframe\">\n",
       "  <thead>\n",
       "    <tr style=\"text-align: right;\">\n",
       "      <th></th>\n",
       "      <th>close</th>\n",
       "    </tr>\n",
       "    <tr>\n",
       "      <th>date</th>\n",
       "      <th></th>\n",
       "    </tr>\n",
       "  </thead>\n",
       "  <tbody>\n",
       "    <tr>\n",
       "      <th>2018-10-24 18:20:00</th>\n",
       "      <td>220.97</td>\n",
       "    </tr>\n",
       "    <tr>\n",
       "      <th>2018-10-24 18:21:00</th>\n",
       "      <td>221.08</td>\n",
       "    </tr>\n",
       "    <tr>\n",
       "      <th>2018-10-24 18:22:00</th>\n",
       "      <td>220.86</td>\n",
       "    </tr>\n",
       "    <tr>\n",
       "      <th>2018-10-24 18:23:00</th>\n",
       "      <td>220.78</td>\n",
       "    </tr>\n",
       "    <tr>\n",
       "      <th>2018-10-24 18:24:00</th>\n",
       "      <td>220.91</td>\n",
       "    </tr>\n",
       "    <tr>\n",
       "      <th>...</th>\n",
       "      <td>...</td>\n",
       "    </tr>\n",
       "    <tr>\n",
       "      <th>2018-10-26 21:55:00</th>\n",
       "      <td>216.23</td>\n",
       "    </tr>\n",
       "    <tr>\n",
       "      <th>2018-10-26 21:56:00</th>\n",
       "      <td>216.08</td>\n",
       "    </tr>\n",
       "    <tr>\n",
       "      <th>2018-10-26 21:57:00</th>\n",
       "      <td>215.77</td>\n",
       "    </tr>\n",
       "    <tr>\n",
       "      <th>2018-10-26 21:58:00</th>\n",
       "      <td>215.20</td>\n",
       "    </tr>\n",
       "    <tr>\n",
       "      <th>2018-10-26 21:59:00</th>\n",
       "      <td>216.03</td>\n",
       "    </tr>\n",
       "  </tbody>\n",
       "</table>\n",
       "<p>1000 rows × 1 columns</p>\n",
       "</div>"
      ],
      "text/plain": [
       "                      close\n",
       "date                       \n",
       "2018-10-24 18:20:00  220.97\n",
       "2018-10-24 18:21:00  221.08\n",
       "2018-10-24 18:22:00  220.86\n",
       "2018-10-24 18:23:00  220.78\n",
       "2018-10-24 18:24:00  220.91\n",
       "...                     ...\n",
       "2018-10-26 21:55:00  216.23\n",
       "2018-10-26 21:56:00  216.08\n",
       "2018-10-26 21:57:00  215.77\n",
       "2018-10-26 21:58:00  215.20\n",
       "2018-10-26 21:59:00  216.03\n",
       "\n",
       "[1000 rows x 1 columns]"
      ]
     },
     "execution_count": 10,
     "metadata": {},
     "output_type": "execute_result"
    }
   ],
   "source": [
    "df = pd.read_csv(\"AAPL_TRADES_1MIN.csv\", index_col=False).loc[:,['date', 'close']].set_index('date').iloc[-1000:]\n",
    "df"
   ]
  },
  {
   "cell_type": "code",
   "execution_count": 11,
   "metadata": {},
   "outputs": [
    {
     "data": {
      "text/plain": [
       "'C:\\\\Users\\\\Arthur\\\\AppData\\\\Local\\\\Programs\\\\Python\\\\Python38\\\\lib\\\\site-packages\\\\streamlit'"
      ]
     },
     "execution_count": 11,
     "metadata": {},
     "output_type": "execute_result"
    }
   ],
   "source": [
    "import streamlit as st\n",
    "\n",
    "st.__path__[0]"
   ]
  },
  {
   "cell_type": "code",
   "execution_count": null,
   "metadata": {},
   "outputs": [],
   "source": []
  }
 ],
 "metadata": {
  "interpreter": {
   "hash": "40d05f821c3f5117662810b11cd79520c05b50fbf7aa218c3251e6d25a2c7c31"
  },
  "kernelspec": {
   "display_name": "Python 3.8.7 64-bit",
   "language": "python",
   "name": "python3"
  },
  "language_info": {
   "codemirror_mode": {
    "name": "ipython",
    "version": 3
   },
   "file_extension": ".py",
   "mimetype": "text/x-python",
   "name": "python",
   "nbconvert_exporter": "python",
   "pygments_lexer": "ipython3",
   "version": "3.8.7"
  },
  "orig_nbformat": 4
 },
 "nbformat": 4,
 "nbformat_minor": 2
}
